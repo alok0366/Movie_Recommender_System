{
  "nbformat": 4,
  "nbformat_minor": 0,
  "metadata": {
    "colab": {
      "name": "Movie_Recommender.ipynb",
      "provenance": [],
      "collapsed_sections": []
    },
    "kernelspec": {
      "name": "python3",
      "display_name": "Python 3"
    }
  },
  "cells": [
    {
      "cell_type": "code",
      "metadata": {
        "id": "S0kjnNYtEvUI"
      },
      "source": [
        "#Buiding a movie recommendation engine using python and machine learning"
      ],
      "execution_count": 2,
      "outputs": []
    },
    {
      "cell_type": "code",
      "metadata": {
        "id": "jFOYa0RoE8PT"
      },
      "source": [
        "#import libraries\r\n",
        "import pandas as pd\r\n",
        "import numpy as np\r\n",
        "from sklearn.metrics.pairwise import cosine_similarity as cs\r\n",
        "from sklearn.feature_extraction.text import CountVectorizer"
      ],
      "execution_count": 31,
      "outputs": []
    },
    {
      "cell_type": "code",
      "metadata": {
        "colab": {
          "resources": {
            "http://localhost:8080/nbextensions/google.colab/files.js": {
              "data": "Ly8gQ29weXJpZ2h0IDIwMTcgR29vZ2xlIExMQwovLwovLyBMaWNlbnNlZCB1bmRlciB0aGUgQXBhY2hlIExpY2Vuc2UsIFZlcnNpb24gMi4wICh0aGUgIkxpY2Vuc2UiKTsKLy8geW91IG1heSBub3QgdXNlIHRoaXMgZmlsZSBleGNlcHQgaW4gY29tcGxpYW5jZSB3aXRoIHRoZSBMaWNlbnNlLgovLyBZb3UgbWF5IG9idGFpbiBhIGNvcHkgb2YgdGhlIExpY2Vuc2UgYXQKLy8KLy8gICAgICBodHRwOi8vd3d3LmFwYWNoZS5vcmcvbGljZW5zZXMvTElDRU5TRS0yLjAKLy8KLy8gVW5sZXNzIHJlcXVpcmVkIGJ5IGFwcGxpY2FibGUgbGF3IG9yIGFncmVlZCB0byBpbiB3cml0aW5nLCBzb2Z0d2FyZQovLyBkaXN0cmlidXRlZCB1bmRlciB0aGUgTGljZW5zZSBpcyBkaXN0cmlidXRlZCBvbiBhbiAiQVMgSVMiIEJBU0lTLAovLyBXSVRIT1VUIFdBUlJBTlRJRVMgT1IgQ09ORElUSU9OUyBPRiBBTlkgS0lORCwgZWl0aGVyIGV4cHJlc3Mgb3IgaW1wbGllZC4KLy8gU2VlIHRoZSBMaWNlbnNlIGZvciB0aGUgc3BlY2lmaWMgbGFuZ3VhZ2UgZ292ZXJuaW5nIHBlcm1pc3Npb25zIGFuZAovLyBsaW1pdGF0aW9ucyB1bmRlciB0aGUgTGljZW5zZS4KCi8qKgogKiBAZmlsZW92ZXJ2aWV3IEhlbHBlcnMgZm9yIGdvb2dsZS5jb2xhYiBQeXRob24gbW9kdWxlLgogKi8KKGZ1bmN0aW9uKHNjb3BlKSB7CmZ1bmN0aW9uIHNwYW4odGV4dCwgc3R5bGVBdHRyaWJ1dGVzID0ge30pIHsKICBjb25zdCBlbGVtZW50ID0gZG9jdW1lbnQuY3JlYXRlRWxlbWVudCgnc3BhbicpOwogIGVsZW1lbnQudGV4dENvbnRlbnQgPSB0ZXh0OwogIGZvciAoY29uc3Qga2V5IG9mIE9iamVjdC5rZXlzKHN0eWxlQXR0cmlidXRlcykpIHsKICAgIGVsZW1lbnQuc3R5bGVba2V5XSA9IHN0eWxlQXR0cmlidXRlc1trZXldOwogIH0KICByZXR1cm4gZWxlbWVudDsKfQoKLy8gTWF4IG51bWJlciBvZiBieXRlcyB3aGljaCB3aWxsIGJlIHVwbG9hZGVkIGF0IGEgdGltZS4KY29uc3QgTUFYX1BBWUxPQURfU0laRSA9IDEwMCAqIDEwMjQ7CgpmdW5jdGlvbiBfdXBsb2FkRmlsZXMoaW5wdXRJZCwgb3V0cHV0SWQpIHsKICBjb25zdCBzdGVwcyA9IHVwbG9hZEZpbGVzU3RlcChpbnB1dElkLCBvdXRwdXRJZCk7CiAgY29uc3Qgb3V0cHV0RWxlbWVudCA9IGRvY3VtZW50LmdldEVsZW1lbnRCeUlkKG91dHB1dElkKTsKICAvLyBDYWNoZSBzdGVwcyBvbiB0aGUgb3V0cHV0RWxlbWVudCB0byBtYWtlIGl0IGF2YWlsYWJsZSBmb3IgdGhlIG5leHQgY2FsbAogIC8vIHRvIHVwbG9hZEZpbGVzQ29udGludWUgZnJvbSBQeXRob24uCiAgb3V0cHV0RWxlbWVudC5zdGVwcyA9IHN0ZXBzOwoKICByZXR1cm4gX3VwbG9hZEZpbGVzQ29udGludWUob3V0cHV0SWQpOwp9CgovLyBUaGlzIGlzIHJvdWdobHkgYW4gYXN5bmMgZ2VuZXJhdG9yIChub3Qgc3VwcG9ydGVkIGluIHRoZSBicm93c2VyIHlldCksCi8vIHdoZXJlIHRoZXJlIGFyZSBtdWx0aXBsZSBhc3luY2hyb25vdXMgc3RlcHMgYW5kIHRoZSBQeXRob24gc2lkZSBpcyBnb2luZwovLyB0byBwb2xsIGZvciBjb21wbGV0aW9uIG9mIGVhY2ggc3RlcC4KLy8gVGhpcyB1c2VzIGEgUHJvbWlzZSB0byBibG9jayB0aGUgcHl0aG9uIHNpZGUgb24gY29tcGxldGlvbiBvZiBlYWNoIHN0ZXAsCi8vIHRoZW4gcGFzc2VzIHRoZSByZXN1bHQgb2YgdGhlIHByZXZpb3VzIHN0ZXAgYXMgdGhlIGlucHV0IHRvIHRoZSBuZXh0IHN0ZXAuCmZ1bmN0aW9uIF91cGxvYWRGaWxlc0NvbnRpbnVlKG91dHB1dElkKSB7CiAgY29uc3Qgb3V0cHV0RWxlbWVudCA9IGRvY3VtZW50LmdldEVsZW1lbnRCeUlkKG91dHB1dElkKTsKICBjb25zdCBzdGVwcyA9IG91dHB1dEVsZW1lbnQuc3RlcHM7CgogIGNvbnN0IG5leHQgPSBzdGVwcy5uZXh0KG91dHB1dEVsZW1lbnQubGFzdFByb21pc2VWYWx1ZSk7CiAgcmV0dXJuIFByb21pc2UucmVzb2x2ZShuZXh0LnZhbHVlLnByb21pc2UpLnRoZW4oKHZhbHVlKSA9PiB7CiAgICAvLyBDYWNoZSB0aGUgbGFzdCBwcm9taXNlIHZhbHVlIHRvIG1ha2UgaXQgYXZhaWxhYmxlIHRvIHRoZSBuZXh0CiAgICAvLyBzdGVwIG9mIHRoZSBnZW5lcmF0b3IuCiAgICBvdXRwdXRFbGVtZW50Lmxhc3RQcm9taXNlVmFsdWUgPSB2YWx1ZTsKICAgIHJldHVybiBuZXh0LnZhbHVlLnJlc3BvbnNlOwogIH0pOwp9CgovKioKICogR2VuZXJhdG9yIGZ1bmN0aW9uIHdoaWNoIGlzIGNhbGxlZCBiZXR3ZWVuIGVhY2ggYXN5bmMgc3RlcCBvZiB0aGUgdXBsb2FkCiAqIHByb2Nlc3MuCiAqIEBwYXJhbSB7c3RyaW5nfSBpbnB1dElkIEVsZW1lbnQgSUQgb2YgdGhlIGlucHV0IGZpbGUgcGlja2VyIGVsZW1lbnQuCiAqIEBwYXJhbSB7c3RyaW5nfSBvdXRwdXRJZCBFbGVtZW50IElEIG9mIHRoZSBvdXRwdXQgZGlzcGxheS4KICogQHJldHVybiB7IUl0ZXJhYmxlPCFPYmplY3Q+fSBJdGVyYWJsZSBvZiBuZXh0IHN0ZXBzLgogKi8KZnVuY3Rpb24qIHVwbG9hZEZpbGVzU3RlcChpbnB1dElkLCBvdXRwdXRJZCkgewogIGNvbnN0IGlucHV0RWxlbWVudCA9IGRvY3VtZW50LmdldEVsZW1lbnRCeUlkKGlucHV0SWQpOwogIGlucHV0RWxlbWVudC5kaXNhYmxlZCA9IGZhbHNlOwoKICBjb25zdCBvdXRwdXRFbGVtZW50ID0gZG9jdW1lbnQuZ2V0RWxlbWVudEJ5SWQob3V0cHV0SWQpOwogIG91dHB1dEVsZW1lbnQuaW5uZXJIVE1MID0gJyc7CgogIGNvbnN0IHBpY2tlZFByb21pc2UgPSBuZXcgUHJvbWlzZSgocmVzb2x2ZSkgPT4gewogICAgaW5wdXRFbGVtZW50LmFkZEV2ZW50TGlzdGVuZXIoJ2NoYW5nZScsIChlKSA9PiB7CiAgICAgIHJlc29sdmUoZS50YXJnZXQuZmlsZXMpOwogICAgfSk7CiAgfSk7CgogIGNvbnN0IGNhbmNlbCA9IGRvY3VtZW50LmNyZWF0ZUVsZW1lbnQoJ2J1dHRvbicpOwogIGlucHV0RWxlbWVudC5wYXJlbnRFbGVtZW50LmFwcGVuZENoaWxkKGNhbmNlbCk7CiAgY2FuY2VsLnRleHRDb250ZW50ID0gJ0NhbmNlbCB1cGxvYWQnOwogIGNvbnN0IGNhbmNlbFByb21pc2UgPSBuZXcgUHJvbWlzZSgocmVzb2x2ZSkgPT4gewogICAgY2FuY2VsLm9uY2xpY2sgPSAoKSA9PiB7CiAgICAgIHJlc29sdmUobnVsbCk7CiAgICB9OwogIH0pOwoKICAvLyBXYWl0IGZvciB0aGUgdXNlciB0byBwaWNrIHRoZSBmaWxlcy4KICBjb25zdCBmaWxlcyA9IHlpZWxkIHsKICAgIHByb21pc2U6IFByb21pc2UucmFjZShbcGlja2VkUHJvbWlzZSwgY2FuY2VsUHJvbWlzZV0pLAogICAgcmVzcG9uc2U6IHsKICAgICAgYWN0aW9uOiAnc3RhcnRpbmcnLAogICAgfQogIH07CgogIGNhbmNlbC5yZW1vdmUoKTsKCiAgLy8gRGlzYWJsZSB0aGUgaW5wdXQgZWxlbWVudCBzaW5jZSBmdXJ0aGVyIHBpY2tzIGFyZSBub3QgYWxsb3dlZC4KICBpbnB1dEVsZW1lbnQuZGlzYWJsZWQgPSB0cnVlOwoKICBpZiAoIWZpbGVzKSB7CiAgICByZXR1cm4gewogICAgICByZXNwb25zZTogewogICAgICAgIGFjdGlvbjogJ2NvbXBsZXRlJywKICAgICAgfQogICAgfTsKICB9CgogIGZvciAoY29uc3QgZmlsZSBvZiBmaWxlcykgewogICAgY29uc3QgbGkgPSBkb2N1bWVudC5jcmVhdGVFbGVtZW50KCdsaScpOwogICAgbGkuYXBwZW5kKHNwYW4oZmlsZS5uYW1lLCB7Zm9udFdlaWdodDogJ2JvbGQnfSkpOwogICAgbGkuYXBwZW5kKHNwYW4oCiAgICAgICAgYCgke2ZpbGUudHlwZSB8fCAnbi9hJ30pIC0gJHtmaWxlLnNpemV9IGJ5dGVzLCBgICsKICAgICAgICBgbGFzdCBtb2RpZmllZDogJHsKICAgICAgICAgICAgZmlsZS5sYXN0TW9kaWZpZWREYXRlID8gZmlsZS5sYXN0TW9kaWZpZWREYXRlLnRvTG9jYWxlRGF0ZVN0cmluZygpIDoKICAgICAgICAgICAgICAgICAgICAgICAgICAgICAgICAgICAgJ24vYSd9IC0gYCkpOwogICAgY29uc3QgcGVyY2VudCA9IHNwYW4oJzAlIGRvbmUnKTsKICAgIGxpLmFwcGVuZENoaWxkKHBlcmNlbnQpOwoKICAgIG91dHB1dEVsZW1lbnQuYXBwZW5kQ2hpbGQobGkpOwoKICAgIGNvbnN0IGZpbGVEYXRhUHJvbWlzZSA9IG5ldyBQcm9taXNlKChyZXNvbHZlKSA9PiB7CiAgICAgIGNvbnN0IHJlYWRlciA9IG5ldyBGaWxlUmVhZGVyKCk7CiAgICAgIHJlYWRlci5vbmxvYWQgPSAoZSkgPT4gewogICAgICAgIHJlc29sdmUoZS50YXJnZXQucmVzdWx0KTsKICAgICAgfTsKICAgICAgcmVhZGVyLnJlYWRBc0FycmF5QnVmZmVyKGZpbGUpOwogICAgfSk7CiAgICAvLyBXYWl0IGZvciB0aGUgZGF0YSB0byBiZSByZWFkeS4KICAgIGxldCBmaWxlRGF0YSA9IHlpZWxkIHsKICAgICAgcHJvbWlzZTogZmlsZURhdGFQcm9taXNlLAogICAgICByZXNwb25zZTogewogICAgICAgIGFjdGlvbjogJ2NvbnRpbnVlJywKICAgICAgfQogICAgfTsKCiAgICAvLyBVc2UgYSBjaHVua2VkIHNlbmRpbmcgdG8gYXZvaWQgbWVzc2FnZSBzaXplIGxpbWl0cy4gU2VlIGIvNjIxMTU2NjAuCiAgICBsZXQgcG9zaXRpb24gPSAwOwogICAgd2hpbGUgKHBvc2l0aW9uIDwgZmlsZURhdGEuYnl0ZUxlbmd0aCkgewogICAgICBjb25zdCBsZW5ndGggPSBNYXRoLm1pbihmaWxlRGF0YS5ieXRlTGVuZ3RoIC0gcG9zaXRpb24sIE1BWF9QQVlMT0FEX1NJWkUpOwogICAgICBjb25zdCBjaHVuayA9IG5ldyBVaW50OEFycmF5KGZpbGVEYXRhLCBwb3NpdGlvbiwgbGVuZ3RoKTsKICAgICAgcG9zaXRpb24gKz0gbGVuZ3RoOwoKICAgICAgY29uc3QgYmFzZTY0ID0gYnRvYShTdHJpbmcuZnJvbUNoYXJDb2RlLmFwcGx5KG51bGwsIGNodW5rKSk7CiAgICAgIHlpZWxkIHsKICAgICAgICByZXNwb25zZTogewogICAgICAgICAgYWN0aW9uOiAnYXBwZW5kJywKICAgICAgICAgIGZpbGU6IGZpbGUubmFtZSwKICAgICAgICAgIGRhdGE6IGJhc2U2NCwKICAgICAgICB9LAogICAgICB9OwogICAgICBwZXJjZW50LnRleHRDb250ZW50ID0KICAgICAgICAgIGAke01hdGgucm91bmQoKHBvc2l0aW9uIC8gZmlsZURhdGEuYnl0ZUxlbmd0aCkgKiAxMDApfSUgZG9uZWA7CiAgICB9CiAgfQoKICAvLyBBbGwgZG9uZS4KICB5aWVsZCB7CiAgICByZXNwb25zZTogewogICAgICBhY3Rpb246ICdjb21wbGV0ZScsCiAgICB9CiAgfTsKfQoKc2NvcGUuZ29vZ2xlID0gc2NvcGUuZ29vZ2xlIHx8IHt9OwpzY29wZS5nb29nbGUuY29sYWIgPSBzY29wZS5nb29nbGUuY29sYWIgfHwge307CnNjb3BlLmdvb2dsZS5jb2xhYi5fZmlsZXMgPSB7CiAgX3VwbG9hZEZpbGVzLAogIF91cGxvYWRGaWxlc0NvbnRpbnVlLAp9Owp9KShzZWxmKTsK",
              "ok": true,
              "headers": [
                [
                  "content-type",
                  "application/javascript"
                ]
              ],
              "status": 200,
              "status_text": ""
            }
          },
          "base_uri": "https://localhost:8080/",
          "height": 72
        },
        "id": "S_3arlMHVoyp",
        "outputId": "538a7a71-f2bf-4b6a-d68c-84ff79510035"
      },
      "source": [
        "from google.colab import files\r\n",
        "uploaded=files.upload()"
      ],
      "execution_count": 32,
      "outputs": [
        {
          "output_type": "display_data",
          "data": {
            "text/html": [
              "\n",
              "     <input type=\"file\" id=\"files-0b0a4b44-db50-477f-bbb6-57c8bd9ff04e\" name=\"files[]\" multiple disabled\n",
              "        style=\"border:none\" />\n",
              "     <output id=\"result-0b0a4b44-db50-477f-bbb6-57c8bd9ff04e\">\n",
              "      Upload widget is only available when the cell has been executed in the\n",
              "      current browser session. Please rerun this cell to enable.\n",
              "      </output>\n",
              "      <script src=\"/nbextensions/google.colab/files.js\"></script> "
            ],
            "text/plain": [
              "<IPython.core.display.HTML object>"
            ]
          },
          "metadata": {
            "tags": []
          }
        },
        {
          "output_type": "stream",
          "text": [
            "Saving Movie_Data.csv to Movie_Data (1).csv\n"
          ],
          "name": "stdout"
        }
      ]
    },
    {
      "cell_type": "code",
      "metadata": {
        "colab": {
          "base_uri": "https://localhost:8080/",
          "height": 306
        },
        "id": "3p-PAhlVWB5H",
        "outputId": "71e27834-0260-4248-bf12-06ed70714787"
      },
      "source": [
        "#store the data\r\n",
        "df=pd.read_csv('Movie_Data.csv')\r\n",
        "df.tail(5)"
      ],
      "execution_count": 33,
      "outputs": [
        {
          "output_type": "execute_result",
          "data": {
            "text/html": [
              "<div>\n",
              "<style scoped>\n",
              "    .dataframe tbody tr th:only-of-type {\n",
              "        vertical-align: middle;\n",
              "    }\n",
              "\n",
              "    .dataframe tbody tr th {\n",
              "        vertical-align: top;\n",
              "    }\n",
              "\n",
              "    .dataframe thead th {\n",
              "        text-align: right;\n",
              "    }\n",
              "</style>\n",
              "<table border=\"1\" class=\"dataframe\">\n",
              "  <thead>\n",
              "    <tr style=\"text-align: right;\">\n",
              "      <th></th>\n",
              "      <th>Rank</th>\n",
              "      <th>Title</th>\n",
              "      <th>Genre</th>\n",
              "      <th>Description</th>\n",
              "      <th>Director</th>\n",
              "      <th>Actors</th>\n",
              "      <th>Year</th>\n",
              "      <th>Runtime (Minutes)</th>\n",
              "      <th>Rating</th>\n",
              "      <th>Votes</th>\n",
              "      <th>Revenue (Millions)</th>\n",
              "      <th>Metascore</th>\n",
              "    </tr>\n",
              "  </thead>\n",
              "  <tbody>\n",
              "    <tr>\n",
              "      <th>995</th>\n",
              "      <td>996</td>\n",
              "      <td>Secret in Their Eyes</td>\n",
              "      <td>Crime,Drama,Mystery</td>\n",
              "      <td>A tight-knit team of rising investigators, alo...</td>\n",
              "      <td>Billy Ray</td>\n",
              "      <td>Chiwetel Ejiofor, Nicole Kidman, Julia Roberts...</td>\n",
              "      <td>2015</td>\n",
              "      <td>111</td>\n",
              "      <td>6.2</td>\n",
              "      <td>27585</td>\n",
              "      <td>NaN</td>\n",
              "      <td>45.0</td>\n",
              "    </tr>\n",
              "    <tr>\n",
              "      <th>996</th>\n",
              "      <td>997</td>\n",
              "      <td>Hostel: Part II</td>\n",
              "      <td>Horror</td>\n",
              "      <td>Three American college students studying abroa...</td>\n",
              "      <td>Eli Roth</td>\n",
              "      <td>Lauren German, Heather Matarazzo, Bijou Philli...</td>\n",
              "      <td>2007</td>\n",
              "      <td>94</td>\n",
              "      <td>5.5</td>\n",
              "      <td>73152</td>\n",
              "      <td>17.54</td>\n",
              "      <td>46.0</td>\n",
              "    </tr>\n",
              "    <tr>\n",
              "      <th>997</th>\n",
              "      <td>998</td>\n",
              "      <td>Step Up 2: The Streets</td>\n",
              "      <td>Drama,Music,Romance</td>\n",
              "      <td>Romantic sparks occur between two dance studen...</td>\n",
              "      <td>Jon M. Chu</td>\n",
              "      <td>Robert Hoffman, Briana Evigan, Cassie Ventura,...</td>\n",
              "      <td>2008</td>\n",
              "      <td>98</td>\n",
              "      <td>6.2</td>\n",
              "      <td>70699</td>\n",
              "      <td>58.01</td>\n",
              "      <td>50.0</td>\n",
              "    </tr>\n",
              "    <tr>\n",
              "      <th>998</th>\n",
              "      <td>999</td>\n",
              "      <td>Search Party</td>\n",
              "      <td>Adventure,Comedy</td>\n",
              "      <td>A pair of friends embark on a mission to reuni...</td>\n",
              "      <td>Scot Armstrong</td>\n",
              "      <td>Adam Pally, T.J. Miller, Thomas Middleditch,Sh...</td>\n",
              "      <td>2014</td>\n",
              "      <td>93</td>\n",
              "      <td>5.6</td>\n",
              "      <td>4881</td>\n",
              "      <td>NaN</td>\n",
              "      <td>22.0</td>\n",
              "    </tr>\n",
              "    <tr>\n",
              "      <th>999</th>\n",
              "      <td>1000</td>\n",
              "      <td>Nine Lives</td>\n",
              "      <td>Comedy,Family,Fantasy</td>\n",
              "      <td>A stuffy businessman finds himself trapped ins...</td>\n",
              "      <td>Barry Sonnenfeld</td>\n",
              "      <td>Kevin Spacey, Jennifer Garner, Robbie Amell,Ch...</td>\n",
              "      <td>2016</td>\n",
              "      <td>87</td>\n",
              "      <td>5.3</td>\n",
              "      <td>12435</td>\n",
              "      <td>19.64</td>\n",
              "      <td>11.0</td>\n",
              "    </tr>\n",
              "  </tbody>\n",
              "</table>\n",
              "</div>"
            ],
            "text/plain": [
              "     Rank                   Title  ... Revenue (Millions) Metascore\n",
              "995   996    Secret in Their Eyes  ...                NaN      45.0\n",
              "996   997         Hostel: Part II  ...              17.54      46.0\n",
              "997   998  Step Up 2: The Streets  ...              58.01      50.0\n",
              "998   999            Search Party  ...                NaN      22.0\n",
              "999  1000              Nine Lives  ...              19.64      11.0\n",
              "\n",
              "[5 rows x 12 columns]"
            ]
          },
          "metadata": {
            "tags": []
          },
          "execution_count": 33
        }
      ]
    },
    {
      "cell_type": "code",
      "metadata": {
        "id": "VrSv0mzOWYRo",
        "colab": {
          "base_uri": "https://localhost:8080/"
        },
        "outputId": "9b5238d1-44d9-4e65-8b99-ce63943144ab"
      },
      "source": [
        "df.shape"
      ],
      "execution_count": 34,
      "outputs": [
        {
          "output_type": "execute_result",
          "data": {
            "text/plain": [
              "(1000, 12)"
            ]
          },
          "metadata": {
            "tags": []
          },
          "execution_count": 34
        }
      ]
    },
    {
      "cell_type": "code",
      "metadata": {
        "id": "dl1Dr1yfgd5I"
      },
      "source": [
        "#creating a list of important columns for our recommendations system\r\n",
        "columns=['Actors','Director','Genre','Title']"
      ],
      "execution_count": 35,
      "outputs": []
    },
    {
      "cell_type": "code",
      "metadata": {
        "colab": {
          "base_uri": "https://localhost:8080/",
          "height": 204
        },
        "id": "-FbvedGogt_c",
        "outputId": "9e2c1792-adf4-4eaa-ce4e-242089e34849"
      },
      "source": [
        "#show the data\r\n",
        "df[columns].tail(5)"
      ],
      "execution_count": 36,
      "outputs": [
        {
          "output_type": "execute_result",
          "data": {
            "text/html": [
              "<div>\n",
              "<style scoped>\n",
              "    .dataframe tbody tr th:only-of-type {\n",
              "        vertical-align: middle;\n",
              "    }\n",
              "\n",
              "    .dataframe tbody tr th {\n",
              "        vertical-align: top;\n",
              "    }\n",
              "\n",
              "    .dataframe thead th {\n",
              "        text-align: right;\n",
              "    }\n",
              "</style>\n",
              "<table border=\"1\" class=\"dataframe\">\n",
              "  <thead>\n",
              "    <tr style=\"text-align: right;\">\n",
              "      <th></th>\n",
              "      <th>Actors</th>\n",
              "      <th>Director</th>\n",
              "      <th>Genre</th>\n",
              "      <th>Title</th>\n",
              "    </tr>\n",
              "  </thead>\n",
              "  <tbody>\n",
              "    <tr>\n",
              "      <th>995</th>\n",
              "      <td>Chiwetel Ejiofor, Nicole Kidman, Julia Roberts...</td>\n",
              "      <td>Billy Ray</td>\n",
              "      <td>Crime,Drama,Mystery</td>\n",
              "      <td>Secret in Their Eyes</td>\n",
              "    </tr>\n",
              "    <tr>\n",
              "      <th>996</th>\n",
              "      <td>Lauren German, Heather Matarazzo, Bijou Philli...</td>\n",
              "      <td>Eli Roth</td>\n",
              "      <td>Horror</td>\n",
              "      <td>Hostel: Part II</td>\n",
              "    </tr>\n",
              "    <tr>\n",
              "      <th>997</th>\n",
              "      <td>Robert Hoffman, Briana Evigan, Cassie Ventura,...</td>\n",
              "      <td>Jon M. Chu</td>\n",
              "      <td>Drama,Music,Romance</td>\n",
              "      <td>Step Up 2: The Streets</td>\n",
              "    </tr>\n",
              "    <tr>\n",
              "      <th>998</th>\n",
              "      <td>Adam Pally, T.J. Miller, Thomas Middleditch,Sh...</td>\n",
              "      <td>Scot Armstrong</td>\n",
              "      <td>Adventure,Comedy</td>\n",
              "      <td>Search Party</td>\n",
              "    </tr>\n",
              "    <tr>\n",
              "      <th>999</th>\n",
              "      <td>Kevin Spacey, Jennifer Garner, Robbie Amell,Ch...</td>\n",
              "      <td>Barry Sonnenfeld</td>\n",
              "      <td>Comedy,Family,Fantasy</td>\n",
              "      <td>Nine Lives</td>\n",
              "    </tr>\n",
              "  </tbody>\n",
              "</table>\n",
              "</div>"
            ],
            "text/plain": [
              "                                                Actors  ...                   Title\n",
              "995  Chiwetel Ejiofor, Nicole Kidman, Julia Roberts...  ...    Secret in Their Eyes\n",
              "996  Lauren German, Heather Matarazzo, Bijou Philli...  ...         Hostel: Part II\n",
              "997  Robert Hoffman, Briana Evigan, Cassie Ventura,...  ...  Step Up 2: The Streets\n",
              "998  Adam Pally, T.J. Miller, Thomas Middleditch,Sh...  ...            Search Party\n",
              "999  Kevin Spacey, Jennifer Garner, Robbie Amell,Ch...  ...              Nine Lives\n",
              "\n",
              "[5 rows x 4 columns]"
            ]
          },
          "metadata": {
            "tags": []
          },
          "execution_count": 36
        }
      ]
    },
    {
      "cell_type": "code",
      "metadata": {
        "colab": {
          "base_uri": "https://localhost:8080/"
        },
        "id": "2atcMcp6g6iC",
        "outputId": "40ef328d-cd0a-409d-829f-77d20b500675"
      },
      "source": [
        "#checking for any missing values..(if found then we have to some data procssing and also have to padd some data)\r\n",
        "df[columns].isnull().values.any()"
      ],
      "execution_count": 37,
      "outputs": [
        {
          "output_type": "execute_result",
          "data": {
            "text/plain": [
              "False"
            ]
          },
          "metadata": {
            "tags": []
          },
          "execution_count": 37
        }
      ]
    },
    {
      "cell_type": "code",
      "metadata": {
        "id": "eYg4-3xhhJGh"
      },
      "source": [
        "#creating a function to combine the values of important columns\r\n",
        "def features_extraction(data):\r\n",
        "  important_features=[]\r\n",
        "  for i in range(0,data.shape[0]):\r\n",
        "    important_features.append(data['Actors'][i]+' '+data['Director'][i]+' '+data['Genre'][i]+' '+data['Title'][i])\r\n",
        "  return important_features\r\n",
        "  "
      ],
      "execution_count": 38,
      "outputs": []
    },
    {
      "cell_type": "code",
      "metadata": {
        "colab": {
          "base_uri": "https://localhost:8080/",
          "height": 408
        },
        "id": "Jgh1hrSHh6Fl",
        "outputId": "f2b2d8ed-ec99-41d9-e5b1-b3caaac6807e"
      },
      "source": [
        "#create a column to hold the combines data extrated from features extraction function\r\n",
        "df['important_featues']=features_extraction(df)\r\n",
        "#show modified dataset\r\n",
        "df.tail(5)"
      ],
      "execution_count": 39,
      "outputs": [
        {
          "output_type": "execute_result",
          "data": {
            "text/html": [
              "<div>\n",
              "<style scoped>\n",
              "    .dataframe tbody tr th:only-of-type {\n",
              "        vertical-align: middle;\n",
              "    }\n",
              "\n",
              "    .dataframe tbody tr th {\n",
              "        vertical-align: top;\n",
              "    }\n",
              "\n",
              "    .dataframe thead th {\n",
              "        text-align: right;\n",
              "    }\n",
              "</style>\n",
              "<table border=\"1\" class=\"dataframe\">\n",
              "  <thead>\n",
              "    <tr style=\"text-align: right;\">\n",
              "      <th></th>\n",
              "      <th>Rank</th>\n",
              "      <th>Title</th>\n",
              "      <th>Genre</th>\n",
              "      <th>Description</th>\n",
              "      <th>Director</th>\n",
              "      <th>Actors</th>\n",
              "      <th>Year</th>\n",
              "      <th>Runtime (Minutes)</th>\n",
              "      <th>Rating</th>\n",
              "      <th>Votes</th>\n",
              "      <th>Revenue (Millions)</th>\n",
              "      <th>Metascore</th>\n",
              "      <th>important_featues</th>\n",
              "    </tr>\n",
              "  </thead>\n",
              "  <tbody>\n",
              "    <tr>\n",
              "      <th>995</th>\n",
              "      <td>996</td>\n",
              "      <td>Secret in Their Eyes</td>\n",
              "      <td>Crime,Drama,Mystery</td>\n",
              "      <td>A tight-knit team of rising investigators, alo...</td>\n",
              "      <td>Billy Ray</td>\n",
              "      <td>Chiwetel Ejiofor, Nicole Kidman, Julia Roberts...</td>\n",
              "      <td>2015</td>\n",
              "      <td>111</td>\n",
              "      <td>6.2</td>\n",
              "      <td>27585</td>\n",
              "      <td>NaN</td>\n",
              "      <td>45.0</td>\n",
              "      <td>Chiwetel Ejiofor, Nicole Kidman, Julia Roberts...</td>\n",
              "    </tr>\n",
              "    <tr>\n",
              "      <th>996</th>\n",
              "      <td>997</td>\n",
              "      <td>Hostel: Part II</td>\n",
              "      <td>Horror</td>\n",
              "      <td>Three American college students studying abroa...</td>\n",
              "      <td>Eli Roth</td>\n",
              "      <td>Lauren German, Heather Matarazzo, Bijou Philli...</td>\n",
              "      <td>2007</td>\n",
              "      <td>94</td>\n",
              "      <td>5.5</td>\n",
              "      <td>73152</td>\n",
              "      <td>17.54</td>\n",
              "      <td>46.0</td>\n",
              "      <td>Lauren German, Heather Matarazzo, Bijou Philli...</td>\n",
              "    </tr>\n",
              "    <tr>\n",
              "      <th>997</th>\n",
              "      <td>998</td>\n",
              "      <td>Step Up 2: The Streets</td>\n",
              "      <td>Drama,Music,Romance</td>\n",
              "      <td>Romantic sparks occur between two dance studen...</td>\n",
              "      <td>Jon M. Chu</td>\n",
              "      <td>Robert Hoffman, Briana Evigan, Cassie Ventura,...</td>\n",
              "      <td>2008</td>\n",
              "      <td>98</td>\n",
              "      <td>6.2</td>\n",
              "      <td>70699</td>\n",
              "      <td>58.01</td>\n",
              "      <td>50.0</td>\n",
              "      <td>Robert Hoffman, Briana Evigan, Cassie Ventura,...</td>\n",
              "    </tr>\n",
              "    <tr>\n",
              "      <th>998</th>\n",
              "      <td>999</td>\n",
              "      <td>Search Party</td>\n",
              "      <td>Adventure,Comedy</td>\n",
              "      <td>A pair of friends embark on a mission to reuni...</td>\n",
              "      <td>Scot Armstrong</td>\n",
              "      <td>Adam Pally, T.J. Miller, Thomas Middleditch,Sh...</td>\n",
              "      <td>2014</td>\n",
              "      <td>93</td>\n",
              "      <td>5.6</td>\n",
              "      <td>4881</td>\n",
              "      <td>NaN</td>\n",
              "      <td>22.0</td>\n",
              "      <td>Adam Pally, T.J. Miller, Thomas Middleditch,Sh...</td>\n",
              "    </tr>\n",
              "    <tr>\n",
              "      <th>999</th>\n",
              "      <td>1000</td>\n",
              "      <td>Nine Lives</td>\n",
              "      <td>Comedy,Family,Fantasy</td>\n",
              "      <td>A stuffy businessman finds himself trapped ins...</td>\n",
              "      <td>Barry Sonnenfeld</td>\n",
              "      <td>Kevin Spacey, Jennifer Garner, Robbie Amell,Ch...</td>\n",
              "      <td>2016</td>\n",
              "      <td>87</td>\n",
              "      <td>5.3</td>\n",
              "      <td>12435</td>\n",
              "      <td>19.64</td>\n",
              "      <td>11.0</td>\n",
              "      <td>Kevin Spacey, Jennifer Garner, Robbie Amell,Ch...</td>\n",
              "    </tr>\n",
              "  </tbody>\n",
              "</table>\n",
              "</div>"
            ],
            "text/plain": [
              "     Rank  ...                                  important_featues\n",
              "995   996  ...  Chiwetel Ejiofor, Nicole Kidman, Julia Roberts...\n",
              "996   997  ...  Lauren German, Heather Matarazzo, Bijou Philli...\n",
              "997   998  ...  Robert Hoffman, Briana Evigan, Cassie Ventura,...\n",
              "998   999  ...  Adam Pally, T.J. Miller, Thomas Middleditch,Sh...\n",
              "999  1000  ...  Kevin Spacey, Jennifer Garner, Robbie Amell,Ch...\n",
              "\n",
              "[5 rows x 13 columns]"
            ]
          },
          "metadata": {
            "tags": []
          },
          "execution_count": 39
        }
      ]
    },
    {
      "cell_type": "code",
      "metadata": {
        "id": "VXEUgfKfiZT3"
      },
      "source": [
        "#convertng the text data to a matrix of token counts\r\n",
        "cm=CountVectorizer().fit_transform(df['important_featues'])\r\n"
      ],
      "execution_count": 40,
      "outputs": []
    },
    {
      "cell_type": "code",
      "metadata": {
        "colab": {
          "base_uri": "https://localhost:8080/"
        },
        "id": "kf0Gn8NEirts",
        "outputId": "93f5f102-e630-4366-b3ca-f3fe74d91dbb"
      },
      "source": [
        "#Getting the cosine similarity matrix from count matrix(cm)\r\n",
        "cs=cosine_similarity(cm)\r\n",
        "#print cosing similiarity matrix\r\n",
        "print(cs)"
      ],
      "execution_count": 41,
      "outputs": [
        {
          "output_type": "stream",
          "text": [
            "[[1.         0.1767767  0.06085806 ... 0.0571662  0.06537205 0.        ]\n",
            " [0.1767767  1.         0.         ... 0.         0.06933752 0.        ]\n",
            " [0.06085806 0.         1.         ... 0.         0.         0.        ]\n",
            " ...\n",
            " [0.0571662  0.         0.         ... 1.         0.06726728 0.        ]\n",
            " [0.06537205 0.06933752 0.         ... 0.06726728 1.         0.07161149]\n",
            " [0.         0.         0.         ... 0.         0.07161149 1.        ]]\n"
          ],
          "name": "stdout"
        }
      ]
    },
    {
      "cell_type": "code",
      "metadata": {
        "colab": {
          "base_uri": "https://localhost:8080/"
        },
        "id": "PUq8YObQi8xM",
        "outputId": "68c2826a-536e-49f2-b42d-4344c9ae14cf"
      },
      "source": [
        "#getting the shape of the cosine similarity matrix\r\n",
        "cs.shape"
      ],
      "execution_count": 42,
      "outputs": [
        {
          "output_type": "execute_result",
          "data": {
            "text/plain": [
              "(1000, 1000)"
            ]
          },
          "metadata": {
            "tags": []
          },
          "execution_count": 42
        }
      ]
    },
    {
      "cell_type": "code",
      "metadata": {
        "colab": {
          "base_uri": "https://localhost:8080/"
        },
        "id": "7ZII12oojHAz",
        "outputId": "53f091d2-6bb0-471a-bc58-3780b818510e"
      },
      "source": [
        "#getting the Title of the movie that the user likes\r\n",
        "movie=\"Search Party\"\r\n",
        "\r\n",
        "#find the Genre of the movie that the user like\r\n",
        "movie_Rank=df[df.Title==movie]['Rank'].values[0]\r\n",
        "print(movie_Rank)"
      ],
      "execution_count": 43,
      "outputs": [
        {
          "output_type": "stream",
          "text": [
            "999\n"
          ],
          "name": "stdout"
        }
      ]
    },
    {
      "cell_type": "code",
      "metadata": {
        "id": "uk4X7JO8kez5"
      },
      "source": [
        "#create a list for the similarity scores \r\n",
        "scores=list(enumerate(cs[movie_Rank]))"
      ],
      "execution_count": 44,
      "outputs": []
    },
    {
      "cell_type": "code",
      "metadata": {
        "id": "UK8w6NhVmE-M"
      },
      "source": [
        "#sorting the scores list\r\n",
        "scores=sorted(scores,key=lambda x:x[1],reverse=True)\r\n",
        "scores=scores[1:]\r\n",
        "\r\n"
      ],
      "execution_count": 45,
      "outputs": []
    },
    {
      "cell_type": "code",
      "metadata": {
        "colab": {
          "base_uri": "https://localhost:8080/"
        },
        "id": "TloaIf-emeor",
        "outputId": "2396ebef-822f-4713-ee9f-5e1204a14513"
      },
      "source": [
        "#print the sorted scores\r\n",
        "print(scores)"
      ],
      "execution_count": 46,
      "outputs": [
        {
          "output_type": "stream",
          "text": [
            "[(862, 0.22019275302527208), (678, 0.21483446221182984), (386, 0.20701966780270625), (442, 0.20701966780270625), (571, 0.20701966780270625), (716, 0.20701966780270625), (567, 0.19999999999999996), (788, 0.19999999999999996), (980, 0.19364916731037082), (496, 0.1878672873255448), (602, 0.1690308509457033), (800, 0.1690308509457033), (244, 0.15811388300841897), (68, 0.14907119849998599), (457, 0.14907119849998599), (115, 0.14322297480788657), (394, 0.14322297480788657), (722, 0.14322297480788657), (846, 0.14322297480788657), (937, 0.14322297480788657), (3, 0.13801311186847084), (52, 0.13801311186847084), (79, 0.13801311186847084), (330, 0.13801311186847084), (339, 0.13801311186847084), (346, 0.13801311186847084), (348, 0.13801311186847084), (464, 0.13801311186847084), (486, 0.13801311186847084), (488, 0.13801311186847084), (565, 0.13801311186847084), (850, 0.13801311186847084), (981, 0.13801311186847084), (4, 0.1333333333333333), (128, 0.1333333333333333), (150, 0.1333333333333333), (182, 0.1333333333333333), (217, 0.1333333333333333), (359, 0.1333333333333333), (415, 0.1333333333333333), (594, 0.1333333333333333), (598, 0.1333333333333333), (649, 0.1333333333333333), (715, 0.1333333333333333), (795, 0.1333333333333333), (922, 0.1333333333333333), (141, 0.12909944487358055), (199, 0.12909944487358055), (205, 0.12909944487358055), (332, 0.12909944487358055), (343, 0.12909944487358055), (349, 0.12909944487358055), (358, 0.12909944487358055), (458, 0.12909944487358055), (489, 0.12909944487358055), (523, 0.12909944487358055), (725, 0.12909944487358055), (791, 0.12909944487358055), (840, 0.12909944487358055), (924, 0.12909944487358055), (985, 0.12909944487358055), (15, 0.12524485821702988), (224, 0.12524485821702988), (336, 0.12524485821702988), (547, 0.12524485821702988), (550, 0.12524485821702988), (701, 0.12524485821702988), (732, 0.12524485821702988), (792, 0.12524485821702988), (807, 0.12524485821702988), (919, 0.12524485821702988), (82, 0.12171612389003691), (440, 0.12171612389003691), (831, 0.12171612389003691), (868, 0.12171612389003691), (975, 0.12171612389003691), (158, 0.11846977555181845), (306, 0.11846977555181845), (10, 0.11547005383792514), (418, 0.11547005383792514), (473, 0.11547005383792514), (749, 0.11547005383792514), (314, 0.10767638041163309), (380, 0.10540925533894598), (629, 0.10540925533894598), (7, 0.07453559924999299), (41, 0.07453559924999299), (430, 0.07453559924999299), (719, 0.07453559924999299), (790, 0.07453559924999299), (28, 0.07161148740394328), (72, 0.07161148740394328), (148, 0.07161148740394328), (207, 0.07161148740394328), (208, 0.07161148740394328), (255, 0.07161148740394328), (351, 0.07161148740394328), (360, 0.07161148740394328), (397, 0.07161148740394328), (606, 0.07161148740394328), (631, 0.07161148740394328), (646, 0.07161148740394328), (730, 0.07161148740394328), (740, 0.07161148740394328), (804, 0.07161148740394328), (816, 0.07161148740394328), (829, 0.07161148740394328), (928, 0.07161148740394328), (977, 0.07161148740394328), (994, 0.07161148740394328), (998, 0.07161148740394328), (9, 0.06900655593423542), (13, 0.06900655593423542), (30, 0.06900655593423542), (47, 0.06900655593423542), (74, 0.06900655593423542), (81, 0.06900655593423542), (87, 0.06900655593423542), (91, 0.06900655593423542), (101, 0.06900655593423542), (106, 0.06900655593423542), (113, 0.06900655593423542), (165, 0.06900655593423542), (174, 0.06900655593423542), (175, 0.06900655593423542), (183, 0.06900655593423542), (189, 0.06900655593423542), (194, 0.06900655593423542), (228, 0.06900655593423542), (242, 0.06900655593423542), (248, 0.06900655593423542), (266, 0.06900655593423542), (278, 0.06900655593423542), (285, 0.06900655593423542), (288, 0.06900655593423542), (312, 0.06900655593423542), (347, 0.06900655593423542), (352, 0.06900655593423542), (363, 0.06900655593423542), (364, 0.06900655593423542), (372, 0.06900655593423542), (373, 0.06900655593423542), (390, 0.06900655593423542), (399, 0.06900655593423542), (407, 0.06900655593423542), (409, 0.06900655593423542), (411, 0.06900655593423542), (435, 0.06900655593423542), (451, 0.06900655593423542), (483, 0.06900655593423542), (499, 0.06900655593423542), (503, 0.06900655593423542), (508, 0.06900655593423542), (515, 0.06900655593423542), (534, 0.06900655593423542), (582, 0.06900655593423542), (587, 0.06900655593423542), (589, 0.06900655593423542), (599, 0.06900655593423542), (611, 0.06900655593423542), (620, 0.06900655593423542), (634, 0.06900655593423542), (635, 0.06900655593423542), (639, 0.06900655593423542), (642, 0.06900655593423542), (699, 0.06900655593423542), (718, 0.06900655593423542), (734, 0.06900655593423542), (765, 0.06900655593423542), (778, 0.06900655593423542), (783, 0.06900655593423542), (801, 0.06900655593423542), (834, 0.06900655593423542), (865, 0.06900655593423542), (883, 0.06900655593423542), (899, 0.06900655593423542), (902, 0.06900655593423542), (930, 0.06900655593423542), (945, 0.06900655593423542), (951, 0.06900655593423542), (956, 0.06900655593423542), (968, 0.06900655593423542), (984, 0.06900655593423542), (11, 0.06666666666666665), (14, 0.06666666666666665), (23, 0.06666666666666665), (33, 0.06666666666666665), (40, 0.06666666666666665), (58, 0.06666666666666665), (93, 0.06666666666666665), (119, 0.06666666666666665), (159, 0.06666666666666665), (161, 0.06666666666666665), (179, 0.06666666666666665), (226, 0.06666666666666665), (241, 0.06666666666666665), (247, 0.06666666666666665), (250, 0.06666666666666665), (274, 0.06666666666666665), (292, 0.06666666666666665), (303, 0.06666666666666665), (318, 0.06666666666666665), (335, 0.06666666666666665), (353, 0.06666666666666665), (355, 0.06666666666666665), (356, 0.06666666666666665), (393, 0.06666666666666665), (398, 0.06666666666666665), (403, 0.06666666666666665), (412, 0.06666666666666665), (439, 0.06666666666666665), (456, 0.06666666666666665), (485, 0.06666666666666665), (530, 0.06666666666666665), (557, 0.06666666666666665), (559, 0.06666666666666665), (561, 0.06666666666666665), (572, 0.06666666666666665), (573, 0.06666666666666665), (597, 0.06666666666666665), (610, 0.06666666666666665), (618, 0.06666666666666665), (621, 0.06666666666666665), (627, 0.06666666666666665), (641, 0.06666666666666665), (647, 0.06666666666666665), (663, 0.06666666666666665), (668, 0.06666666666666665), (669, 0.06666666666666665), (682, 0.06666666666666665), (688, 0.06666666666666665), (694, 0.06666666666666665), (702, 0.06666666666666665), (707, 0.06666666666666665), (726, 0.06666666666666665), (728, 0.06666666666666665), (731, 0.06666666666666665), (735, 0.06666666666666665), (752, 0.06666666666666665), (753, 0.06666666666666665), (782, 0.06666666666666665), (787, 0.06666666666666665), (797, 0.06666666666666665), (810, 0.06666666666666665), (833, 0.06666666666666665), (855, 0.06666666666666665), (876, 0.06666666666666665), (888, 0.06666666666666665), (892, 0.06666666666666665), (895, 0.06666666666666665), (897, 0.06666666666666665), (898, 0.06666666666666665), (908, 0.06666666666666665), (931, 0.06666666666666665), (943, 0.06666666666666665), (955, 0.06666666666666665), (958, 0.06666666666666665), (983, 0.06666666666666665), (5, 0.06454972243679027), (32, 0.06454972243679027), (39, 0.06454972243679027), (51, 0.06454972243679027), (95, 0.06454972243679027), (104, 0.06454972243679027), (125, 0.06454972243679027), (131, 0.06454972243679027), (142, 0.06454972243679027), (157, 0.06454972243679027), (187, 0.06454972243679027), (201, 0.06454972243679027), (219, 0.06454972243679027), (221, 0.06454972243679027), (230, 0.06454972243679027), (249, 0.06454972243679027), (262, 0.06454972243679027), (272, 0.06454972243679027), (276, 0.06454972243679027), (294, 0.06454972243679027), (297, 0.06454972243679027), (305, 0.06454972243679027), (309, 0.06454972243679027), (374, 0.06454972243679027), (431, 0.06454972243679027), (469, 0.06454972243679027), (475, 0.06454972243679027), (480, 0.06454972243679027), (514, 0.06454972243679027), (537, 0.06454972243679027), (553, 0.06454972243679027), (555, 0.06454972243679027), (563, 0.06454972243679027), (570, 0.06454972243679027), (581, 0.06454972243679027), (585, 0.06454972243679027), (593, 0.06454972243679027), (607, 0.06454972243679027), (612, 0.06454972243679027), (630, 0.06454972243679027), (660, 0.06454972243679027), (661, 0.06454972243679027), (677, 0.06454972243679027), (695, 0.06454972243679027), (724, 0.06454972243679027), (747, 0.06454972243679027), (758, 0.06454972243679027), (775, 0.06454972243679027), (814, 0.06454972243679027), (820, 0.06454972243679027), (886, 0.06454972243679027), (912, 0.06454972243679027), (934, 0.06454972243679027), (972, 0.06454972243679027), (6, 0.06262242910851494), (37, 0.06262242910851494), (65, 0.06262242910851494), (88, 0.06262242910851494), (96, 0.06262242910851494), (151, 0.06262242910851494), (166, 0.06262242910851494), (180, 0.06262242910851494), (214, 0.06262242910851494), (215, 0.06262242910851494), (238, 0.06262242910851494), (271, 0.06262242910851494), (273, 0.06262242910851494), (286, 0.06262242910851494), (291, 0.06262242910851494), (296, 0.06262242910851494), (304, 0.06262242910851494), (378, 0.06262242910851494), (504, 0.06262242910851494), (575, 0.06262242910851494), (626, 0.06262242910851494), (657, 0.06262242910851494), (711, 0.06262242910851494), (712, 0.06262242910851494), (714, 0.06262242910851494), (793, 0.06262242910851494), (799, 0.06262242910851494), (870, 0.06262242910851494), (879, 0.06262242910851494), (900, 0.06262242910851494), (917, 0.06262242910851494), (941, 0.06262242910851494), (982, 0.06262242910851494), (992, 0.06262242910851494), (25, 0.06085806194501846), (146, 0.06085806194501846), (171, 0.06085806194501846), (325, 0.06085806194501846), (395, 0.06085806194501846), (423, 0.06085806194501846), (438, 0.06085806194501846), (447, 0.06085806194501846), (539, 0.06085806194501846), (568, 0.06085806194501846), (667, 0.06085806194501846), (674, 0.06085806194501846), (696, 0.06085806194501846), (761, 0.06085806194501846), (773, 0.06085806194501846), (821, 0.06085806194501846), (827, 0.06085806194501846), (837, 0.06085806194501846), (871, 0.06085806194501846), (881, 0.06085806194501846), (915, 0.06085806194501846), (918, 0.06085806194501846), (990, 0.06085806194501846), (50, 0.059234887775909226), (120, 0.059234887775909226), (122, 0.059234887775909226), (177, 0.059234887775909226), (366, 0.059234887775909226), (425, 0.059234887775909226), (507, 0.059234887775909226), (604, 0.059234887775909226), (609, 0.059234887775909226), (681, 0.059234887775909226), (889, 0.059234887775909226), (893, 0.059234887775909226), (906, 0.059234887775909226), (921, 0.059234887775909226), (925, 0.059234887775909226), (952, 0.059234887775909226), (45, 0.05773502691896257), (63, 0.05773502691896257), (75, 0.05773502691896257), (78, 0.05773502691896257), (114, 0.05773502691896257), (476, 0.05773502691896257), (518, 0.05773502691896257), (546, 0.05773502691896257), (583, 0.05773502691896257), (683, 0.05773502691896257), (784, 0.05773502691896257), (813, 0.05773502691896257), (874, 0.05773502691896257), (910, 0.05773502691896257), (953, 0.05773502691896257), (991, 0.05773502691896257), (260, 0.0563436169819011), (264, 0.0563436169819011), (408, 0.0563436169819011), (578, 0.0563436169819011), (680, 0.0563436169819011), (803, 0.0563436169819011), (843, 0.0563436169819011), (891, 0.0563436169819011), (935, 0.0563436169819011), (327, 0.05504818825631802), (739, 0.05504818825631802), (806, 0.05504818825631802), (911, 0.05504818825631802), (950, 0.05504818825631802), (614, 0.053838190205816545), (619, 0.053838190205816545), (632, 0.053838190205816545), (653, 0.053838190205816545), (745, 0.05270462766947299), (767, 0.05270462766947299), (313, 0.050636968354183326), (0, 0.0), (1, 0.0), (2, 0.0), (8, 0.0), (12, 0.0), (16, 0.0), (17, 0.0), (18, 0.0), (19, 0.0), (20, 0.0), (21, 0.0), (22, 0.0), (24, 0.0), (26, 0.0), (27, 0.0), (29, 0.0), (31, 0.0), (34, 0.0), (35, 0.0), (36, 0.0), (38, 0.0), (42, 0.0), (43, 0.0), (44, 0.0), (46, 0.0), (48, 0.0), (49, 0.0), (53, 0.0), (54, 0.0), (55, 0.0), (56, 0.0), (57, 0.0), (59, 0.0), (60, 0.0), (61, 0.0), (62, 0.0), (64, 0.0), (66, 0.0), (67, 0.0), (69, 0.0), (70, 0.0), (71, 0.0), (73, 0.0), (76, 0.0), (77, 0.0), (80, 0.0), (83, 0.0), (84, 0.0), (85, 0.0), (86, 0.0), (89, 0.0), (90, 0.0), (92, 0.0), (94, 0.0), (97, 0.0), (98, 0.0), (99, 0.0), (100, 0.0), (102, 0.0), (103, 0.0), (105, 0.0), (107, 0.0), (108, 0.0), (109, 0.0), (110, 0.0), (111, 0.0), (112, 0.0), (116, 0.0), (117, 0.0), (118, 0.0), (121, 0.0), (123, 0.0), (124, 0.0), (126, 0.0), (127, 0.0), (129, 0.0), (130, 0.0), (132, 0.0), (133, 0.0), (134, 0.0), (135, 0.0), (136, 0.0), (137, 0.0), (138, 0.0), (139, 0.0), (140, 0.0), (143, 0.0), (144, 0.0), (145, 0.0), (147, 0.0), (149, 0.0), (152, 0.0), (153, 0.0), (154, 0.0), (155, 0.0), (156, 0.0), (160, 0.0), (162, 0.0), (163, 0.0), (164, 0.0), (167, 0.0), (168, 0.0), (169, 0.0), (170, 0.0), (172, 0.0), (173, 0.0), (176, 0.0), (178, 0.0), (181, 0.0), (184, 0.0), (185, 0.0), (186, 0.0), (188, 0.0), (190, 0.0), (191, 0.0), (192, 0.0), (193, 0.0), (195, 0.0), (196, 0.0), (197, 0.0), (198, 0.0), (200, 0.0), (202, 0.0), (203, 0.0), (204, 0.0), (206, 0.0), (209, 0.0), (210, 0.0), (211, 0.0), (212, 0.0), (213, 0.0), (216, 0.0), (218, 0.0), (220, 0.0), (222, 0.0), (223, 0.0), (225, 0.0), (227, 0.0), (229, 0.0), (231, 0.0), (232, 0.0), (233, 0.0), (234, 0.0), (235, 0.0), (236, 0.0), (237, 0.0), (239, 0.0), (240, 0.0), (243, 0.0), (245, 0.0), (246, 0.0), (251, 0.0), (252, 0.0), (253, 0.0), (254, 0.0), (256, 0.0), (257, 0.0), (258, 0.0), (259, 0.0), (261, 0.0), (263, 0.0), (265, 0.0), (267, 0.0), (268, 0.0), (269, 0.0), (270, 0.0), (275, 0.0), (277, 0.0), (279, 0.0), (280, 0.0), (281, 0.0), (282, 0.0), (283, 0.0), (284, 0.0), (287, 0.0), (289, 0.0), (290, 0.0), (293, 0.0), (295, 0.0), (298, 0.0), (299, 0.0), (300, 0.0), (301, 0.0), (302, 0.0), (307, 0.0), (308, 0.0), (310, 0.0), (311, 0.0), (315, 0.0), (316, 0.0), (317, 0.0), (319, 0.0), (320, 0.0), (321, 0.0), (322, 0.0), (323, 0.0), (324, 0.0), (326, 0.0), (328, 0.0), (329, 0.0), (331, 0.0), (333, 0.0), (334, 0.0), (337, 0.0), (338, 0.0), (340, 0.0), (341, 0.0), (342, 0.0), (344, 0.0), (345, 0.0), (350, 0.0), (354, 0.0), (357, 0.0), (361, 0.0), (362, 0.0), (365, 0.0), (367, 0.0), (368, 0.0), (369, 0.0), (370, 0.0), (371, 0.0), (375, 0.0), (376, 0.0), (377, 0.0), (379, 0.0), (381, 0.0), (382, 0.0), (383, 0.0), (384, 0.0), (385, 0.0), (387, 0.0), (388, 0.0), (389, 0.0), (391, 0.0), (392, 0.0), (396, 0.0), (400, 0.0), (401, 0.0), (402, 0.0), (404, 0.0), (405, 0.0), (406, 0.0), (410, 0.0), (413, 0.0), (414, 0.0), (416, 0.0), (417, 0.0), (419, 0.0), (420, 0.0), (421, 0.0), (422, 0.0), (424, 0.0), (426, 0.0), (427, 0.0), (428, 0.0), (429, 0.0), (432, 0.0), (433, 0.0), (434, 0.0), (436, 0.0), (437, 0.0), (441, 0.0), (443, 0.0), (444, 0.0), (445, 0.0), (446, 0.0), (448, 0.0), (449, 0.0), (450, 0.0), (452, 0.0), (453, 0.0), (454, 0.0), (455, 0.0), (459, 0.0), (460, 0.0), (461, 0.0), (462, 0.0), (463, 0.0), (465, 0.0), (466, 0.0), (467, 0.0), (468, 0.0), (470, 0.0), (471, 0.0), (472, 0.0), (474, 0.0), (477, 0.0), (478, 0.0), (479, 0.0), (481, 0.0), (482, 0.0), (484, 0.0), (487, 0.0), (490, 0.0), (491, 0.0), (492, 0.0), (493, 0.0), (494, 0.0), (495, 0.0), (497, 0.0), (498, 0.0), (500, 0.0), (501, 0.0), (502, 0.0), (505, 0.0), (506, 0.0), (509, 0.0), (510, 0.0), (511, 0.0), (512, 0.0), (513, 0.0), (516, 0.0), (517, 0.0), (519, 0.0), (520, 0.0), (521, 0.0), (522, 0.0), (524, 0.0), (525, 0.0), (526, 0.0), (527, 0.0), (528, 0.0), (529, 0.0), (531, 0.0), (532, 0.0), (533, 0.0), (535, 0.0), (536, 0.0), (538, 0.0), (540, 0.0), (541, 0.0), (542, 0.0), (543, 0.0), (544, 0.0), (545, 0.0), (548, 0.0), (549, 0.0), (551, 0.0), (552, 0.0), (554, 0.0), (556, 0.0), (558, 0.0), (560, 0.0), (562, 0.0), (564, 0.0), (566, 0.0), (569, 0.0), (574, 0.0), (576, 0.0), (577, 0.0), (579, 0.0), (580, 0.0), (584, 0.0), (586, 0.0), (588, 0.0), (590, 0.0), (591, 0.0), (592, 0.0), (595, 0.0), (596, 0.0), (600, 0.0), (601, 0.0), (603, 0.0), (605, 0.0), (608, 0.0), (613, 0.0), (615, 0.0), (616, 0.0), (617, 0.0), (622, 0.0), (623, 0.0), (624, 0.0), (625, 0.0), (628, 0.0), (633, 0.0), (636, 0.0), (637, 0.0), (638, 0.0), (640, 0.0), (643, 0.0), (644, 0.0), (645, 0.0), (648, 0.0), (650, 0.0), (651, 0.0), (652, 0.0), (654, 0.0), (655, 0.0), (656, 0.0), (658, 0.0), (659, 0.0), (662, 0.0), (664, 0.0), (665, 0.0), (666, 0.0), (670, 0.0), (671, 0.0), (672, 0.0), (673, 0.0), (675, 0.0), (676, 0.0), (679, 0.0), (684, 0.0), (685, 0.0), (686, 0.0), (687, 0.0), (689, 0.0), (690, 0.0), (691, 0.0), (692, 0.0), (693, 0.0), (697, 0.0), (698, 0.0), (700, 0.0), (703, 0.0), (704, 0.0), (705, 0.0), (706, 0.0), (708, 0.0), (709, 0.0), (710, 0.0), (713, 0.0), (717, 0.0), (720, 0.0), (721, 0.0), (723, 0.0), (727, 0.0), (729, 0.0), (733, 0.0), (736, 0.0), (737, 0.0), (738, 0.0), (741, 0.0), (742, 0.0), (743, 0.0), (744, 0.0), (746, 0.0), (748, 0.0), (750, 0.0), (751, 0.0), (754, 0.0), (755, 0.0), (756, 0.0), (757, 0.0), (759, 0.0), (760, 0.0), (762, 0.0), (763, 0.0), (764, 0.0), (766, 0.0), (768, 0.0), (769, 0.0), (770, 0.0), (771, 0.0), (772, 0.0), (774, 0.0), (776, 0.0), (777, 0.0), (779, 0.0), (780, 0.0), (781, 0.0), (785, 0.0), (786, 0.0), (789, 0.0), (794, 0.0), (796, 0.0), (798, 0.0), (802, 0.0), (805, 0.0), (808, 0.0), (809, 0.0), (811, 0.0), (812, 0.0), (815, 0.0), (817, 0.0), (818, 0.0), (819, 0.0), (822, 0.0), (823, 0.0), (824, 0.0), (825, 0.0), (826, 0.0), (828, 0.0), (830, 0.0), (832, 0.0), (835, 0.0), (836, 0.0), (838, 0.0), (839, 0.0), (841, 0.0), (842, 0.0), (844, 0.0), (845, 0.0), (847, 0.0), (848, 0.0), (849, 0.0), (851, 0.0), (852, 0.0), (853, 0.0), (854, 0.0), (856, 0.0), (857, 0.0), (858, 0.0), (859, 0.0), (860, 0.0), (861, 0.0), (863, 0.0), (864, 0.0), (866, 0.0), (867, 0.0), (869, 0.0), (872, 0.0), (873, 0.0), (875, 0.0), (877, 0.0), (878, 0.0), (880, 0.0), (882, 0.0), (884, 0.0), (885, 0.0), (887, 0.0), (890, 0.0), (894, 0.0), (896, 0.0), (901, 0.0), (903, 0.0), (904, 0.0), (905, 0.0), (907, 0.0), (909, 0.0), (913, 0.0), (914, 0.0), (916, 0.0), (920, 0.0), (923, 0.0), (926, 0.0), (927, 0.0), (929, 0.0), (932, 0.0), (933, 0.0), (936, 0.0), (938, 0.0), (939, 0.0), (940, 0.0), (942, 0.0), (944, 0.0), (946, 0.0), (947, 0.0), (948, 0.0), (949, 0.0), (954, 0.0), (957, 0.0), (959, 0.0), (960, 0.0), (961, 0.0), (962, 0.0), (963, 0.0), (964, 0.0), (965, 0.0), (966, 0.0), (967, 0.0), (969, 0.0), (970, 0.0), (971, 0.0), (973, 0.0), (974, 0.0), (976, 0.0), (978, 0.0), (979, 0.0), (986, 0.0), (987, 0.0), (988, 0.0), (989, 0.0), (993, 0.0), (995, 0.0), (996, 0.0), (997, 0.0)]\n"
          ],
          "name": "stdout"
        }
      ]
    },
    {
      "cell_type": "code",
      "metadata": {
        "colab": {
          "base_uri": "https://localhost:8080/"
        },
        "id": "v2Y87Csnmseh",
        "outputId": "1fa3c2ec-9c30-4645-a475-2288b7dcbace"
      },
      "source": [
        "#creating a loop to determine the first 6 similar movies that usr likes\r\n",
        "ptr=0\r\n",
        "print(\"The most recommended movies to\",movie,\"are:\\n\")\r\n",
        "for item in scores:\r\n",
        "  movie_title=df[df.Rank==item[0]]['Title'].values[0]\r\n",
        "  print(ptr+1,movie_title)\r\n",
        "  ptr+=1\r\n",
        "  if ptr>5:\r\n",
        "    break\r\n",
        "  "
      ],
      "execution_count": 47,
      "outputs": [
        {
          "output_type": "stream",
          "text": [
            "The most recommended movies to Search Party are:\n",
            "\n",
            "1 Koe no katachi\n",
            "2 Love, Rosie\n",
            "3 Everest\n",
            "4 Brooklyn\n",
            "5 The Other Woman\n",
            "6 Happy Feet\n"
          ],
          "name": "stdout"
        }
      ]
    }
  ]
}